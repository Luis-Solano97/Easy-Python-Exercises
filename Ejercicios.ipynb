{
 "cells": [
  {
   "cell_type": "markdown",
   "metadata": {},
   "source": [
    "## Notebook de Ejercicios"
   ]
  },
  {
   "cell_type": "markdown",
   "metadata": {},
   "source": [
    "## Libreria para las pruebas (Ejecutar)"
   ]
  },
  {
   "cell_type": "code",
   "execution_count": 1,
   "metadata": {},
   "outputs": [],
   "source": [
    "from tests import test_functions\n",
    "test = test_functions.Function_testing()"
   ]
  },
  {
   "cell_type": "markdown",
   "metadata": {},
   "source": [
    "## Ejercicio 1:\n",
    "\n",
    "Instrucciones: \n",
    "\n",
    "Programa que devuelva la longitud de un texto\n",
    "\n"
   ]
  },
  {
   "cell_type": "code",
   "execution_count": 2,
   "metadata": {},
   "outputs": [],
   "source": [
    "def longitud_texto(texto):\n",
    "    \n",
    "    return len(texto) \n"
   ]
  },
  {
   "cell_type": "code",
   "execution_count": 5,
   "metadata": {},
   "outputs": [
    {
     "data": {
      "text/plain": [
       "12"
      ]
     },
     "execution_count": 5,
     "metadata": {},
     "output_type": "execute_result"
    }
   ],
   "source": [
    "text= \"wenas noches\"\n",
    "\n",
    "longitud_texto(text)"
   ]
  },
  {
   "cell_type": "code",
   "execution_count": 6,
   "metadata": {},
   "outputs": [
    {
     "name": "stdout",
     "output_type": "stream",
     "text": [
      "¡Superaste la prueba!\n"
     ]
    }
   ],
   "source": [
    "test.test_excercise_one(longitud_texto(\"La percepción de este espacio y del silencio\"), 44)"
   ]
  },
  {
   "attachments": {},
   "cell_type": "markdown",
   "metadata": {},
   "source": [
    "## Ejercicio 2\n",
    "\n",
    "Instrucciones:\n",
    "\n",
    "Programa que devuelva la cantidad de palabras que tiene un texto"
   ]
  },
  {
   "cell_type": "code",
   "execution_count": 19,
   "metadata": {},
   "outputs": [],
   "source": [
    "def cantidad_palabras(texto):\n",
    "    num=texto.split(\" \")\n",
    "    \n",
    "    return len(num)"
   ]
  },
  {
   "cell_type": "code",
   "execution_count": 40,
   "metadata": {},
   "outputs": [
    {
     "data": {
      "text/plain": [
       "3"
      ]
     },
     "execution_count": 40,
     "metadata": {},
     "output_type": "execute_result"
    }
   ],
   "source": [
    "frase=\"wenas noches tenga\"\n",
    "cantidad_palabras(frase)"
   ]
  },
  {
   "cell_type": "code",
   "execution_count": 22,
   "metadata": {},
   "outputs": [
    {
     "name": "stdout",
     "output_type": "stream",
     "text": [
      "¡Superaste la prueba!\n"
     ]
    }
   ],
   "source": [
    "test.test_excercise_two(cantidad_palabras('La leyenda circula en que el campanario'), 7)"
   ]
  },
  {
   "cell_type": "markdown",
   "metadata": {},
   "source": [
    "## Ejercicio 3\n",
    "\n",
    "Instrucciones:\n",
    "\n",
    "Programa que devuelve la ultima palabra de un texto\n",
    "\n",
    "Ejemplo1 :\n",
    "| Input |  Output |\n",
    "| - | - | \n",
    "| \"buscando un lago\" | \"lago\" | \n",
    "| \"realizaron una orquesta\" | \"orquesta\"\n",
    "\n"
   ]
  },
  {
   "cell_type": "code",
   "execution_count": 37,
   "metadata": {},
   "outputs": [],
   "source": [
    "def ultima_palabra(texto):\n",
    "    palabras=texto.split(\" \")\n",
    "\n",
    "    return palabras[-1]"
   ]
  },
  {
   "cell_type": "code",
   "execution_count": 39,
   "metadata": {},
   "outputs": [
    {
     "data": {
      "text/plain": [
       "'usted'"
      ]
     },
     "execution_count": 39,
     "metadata": {},
     "output_type": "execute_result"
    }
   ],
   "source": [
    "frase=\"wenas noches tenga usted\"\n",
    "ultima_palabra(frase)"
   ]
  },
  {
   "cell_type": "code",
   "execution_count": 41,
   "metadata": {},
   "outputs": [
    {
     "name": "stdout",
     "output_type": "stream",
     "text": [
      "¡Superaste la prueba 1!\n",
      "¡Superaste la prueba 2!\n"
     ]
    }
   ],
   "source": [
    "# Prueba 1\n",
    "test.test_excercise_three(ultima_palabra('Se encuentran en una boda y conversan por horas'), \"horas\" , 1)\n",
    "\n",
    "# Prueba 2\n",
    "test.test_excercise_three(ultima_palabra('Un aroma suave y natural'), \"natural\", 2)"
   ]
  },
  {
   "cell_type": "markdown",
   "metadata": {},
   "source": [
    "## Ejercicio 4\n",
    "\n",
    "Instrucciones:\n",
    "\n",
    "Programa que devuelve una cadena volteada.\n",
    "\n",
    "Ejemplo1 :\n",
    "| Input |  Output |\n",
    "| - | - | \n",
    "| \"muy temprano\" | \"onarpmet yum\" | \n",
    "| \"un conejo blanco\" | \"ocnalb ojenoc nu\"\n"
   ]
  },
  {
   "cell_type": "code",
   "execution_count": 68,
   "metadata": {},
   "outputs": [],
   "source": [
    "def cadena_volteada(texto):\n",
    "    #print(texto[::-1])\n",
    "    return texto[::-1]"
   ]
  },
  {
   "cell_type": "code",
   "execution_count": 71,
   "metadata": {},
   "outputs": [
    {
     "data": {
      "text/plain": [
       "'roñes detsu agnet sedrat sanew'"
      ]
     },
     "execution_count": 71,
     "metadata": {},
     "output_type": "execute_result"
    }
   ],
   "source": [
    "frase=\"wenas tardes tenga usted señor\"\n",
    "cadena_volteada(frase)"
   ]
  },
  {
   "cell_type": "code",
   "execution_count": 70,
   "metadata": {},
   "outputs": [
    {
     "name": "stdout",
     "output_type": "stream",
     "text": [
      "¡Superaste la prueba 1!\n",
      "¡Superaste la prueba 2!\n"
     ]
    }
   ],
   "source": [
    "# Prueba 1\n",
    "test.test_excercise_four(cadena_volteada('aquel día fue el perfecto para zarpar'), 'rapraz arap otcefrep le euf aíd leuqa' , 1)\n",
    "\n",
    "# Prueba 2\n",
    "test.test_excercise_four(cadena_volteada('hoy me dieron finalmente una habitación'), 'nóicatibah anu etnemlanif noreid em yoh', 2)"
   ]
  },
  {
   "cell_type": "markdown",
   "metadata": {},
   "source": [
    "## Ejercicio 5\n",
    "\n",
    "Instrucciones:\n",
    "\n",
    "Programa que cuenta la cantidad de veces que hay un caracter en nuestro texto.\n",
    "\n",
    "Ejemplo1 :\n",
    "| Input | Caracter |Output |\n",
    "| - | - | - |\n",
    "| \"la rosa pastel\" | \"a\" | 3 |\n",
    "| \"una misión muy especial\" | \"i\" | 3 \n",
    "| \"El viaje pasa cada que estan juntos\" | \"o\" | 1"
   ]
  },
  {
   "cell_type": "code",
   "execution_count": 72,
   "metadata": {},
   "outputs": [],
   "source": [
    "def contar_caracter(texto, caracter):\n",
    "    numLetra=0\n",
    "    for e in texto:\n",
    "        if e==caracter:\n",
    "            numLetra+=1\n",
    "    return numLetra"
   ]
  },
  {
   "cell_type": "code",
   "execution_count": 102,
   "metadata": {},
   "outputs": [
    {
     "data": {
      "text/plain": [
       "0"
      ]
     },
     "execution_count": 102,
     "metadata": {},
     "output_type": "execute_result"
    }
   ],
   "source": [
    "frase=\"wenas noches tenga usted distinguido señor\" \n",
    "letra=\"z\"\n",
    "contar_caracter(frase,letra)"
   ]
  },
  {
   "cell_type": "code",
   "execution_count": 79,
   "metadata": {},
   "outputs": [
    {
     "name": "stdout",
     "output_type": "stream",
     "text": [
      "¡Superaste la prueba 1!\n",
      "¡Superaste la prueba 2!\n",
      "¡Superaste la prueba 3!\n"
     ]
    }
   ],
   "source": [
    "# Prueba 1\n",
    "test.test_excercise_five(contar_caracter('fue un día oscuro y lluvioso', 'o'), 4 , 1)\n",
    "\n",
    "# Prueba 2\n",
    "test.test_excercise_five(contar_caracter('el destino esta escrito pero no tiene un orden' , 'e'), 8, 2)\n",
    "\n",
    "# Prueba 3\n",
    "test.test_excercise_five(contar_caracter('Hay una fuerza extremadamente poderosa', 'a'), 6, 3)"
   ]
  },
  {
   "cell_type": "markdown",
   "metadata": {},
   "source": [
    "## Ejercicio 6\n",
    "\n",
    "Instruciones:\n",
    "\n",
    "Programa que verifica si un texto es un palindromo"
   ]
  },
  {
   "cell_type": "code",
   "execution_count": 107,
   "metadata": {},
   "outputs": [],
   "source": [
    "def palindromo(texto):\n",
    "    newtexto=texto.replace(\" \", \"\")\n",
    "    newtexto=newtexto.lower()\n",
    "    invertido=newtexto[::-1]\n",
    "    return invertido==newtexto"
   ]
  },
  {
   "cell_type": "code",
   "execution_count": 108,
   "metadata": {},
   "outputs": [
    {
     "data": {
      "text/plain": [
       "False"
      ]
     },
     "execution_count": 108,
     "metadata": {},
     "output_type": "execute_result"
    }
   ],
   "source": [
    "frase=\"wenas noches tenga usted distinguido y honorable señor\"\n",
    "palindromo(frase)"
   ]
  },
  {
   "cell_type": "code",
   "execution_count": 109,
   "metadata": {},
   "outputs": [
    {
     "name": "stdout",
     "output_type": "stream",
     "text": [
      "¡Superaste la prueba 1!\n",
      "¡Superaste la prueba 2!\n",
      "¡Superaste la prueba 3!\n"
     ]
    }
   ],
   "source": [
    "# Prueba 1\n",
    "test.test_excercise_six(palindromo('Atar a la rata'), True , 1)\n",
    "\n",
    "# Prueba 2\n",
    "test.test_excercise_six(palindromo('Ella te ama detalle'), False, 2)\n",
    "\n",
    "# Prueba 3\n",
    "test.test_excercise_six(palindromo('Yo hago yoga hoy'), True, 3)"
   ]
  },
  {
   "cell_type": "markdown",
   "metadata": {},
   "source": [
    "## Ejercicio 7\n",
    "\n",
    "Instrucciones:\n",
    "\n",
    "Programa que devuelve en una lista los números que se encuentran en un texto.\n",
    "\n",
    "Ejemplo1 :\n",
    "| Input | Output |\n",
    "| - | - |\n",
    "| \"a1b2c3\" | ['1', '2', '3'] | \n",
    "| \"2h5bnk6ju4\" | ['2', '5', '6', '4'] |\n"
   ]
  },
  {
   "cell_type": "code",
   "execution_count": 122,
   "metadata": {},
   "outputs": [],
   "source": [
    "def lista_numeros_texto(texto):\n",
    "    numlist=[]\n",
    "    for e in texto:\n",
    "        if e in \"1234567890\":\n",
    "            numlist.append(e)\n",
    "    return numlist"
   ]
  },
  {
   "cell_type": "code",
   "execution_count": 124,
   "metadata": {},
   "outputs": [
    {
     "data": {
      "text/plain": [
       "['3',\n",
       " '4',\n",
       " '0',\n",
       " '3',\n",
       " '3',\n",
       " '3',\n",
       " '1',\n",
       " '1',\n",
       " '1',\n",
       " '0',\n",
       " '0',\n",
       " '0',\n",
       " '4',\n",
       " '3',\n",
       " '3',\n",
       " '0']"
      ]
     },
     "execution_count": 124,
     "metadata": {},
     "output_type": "execute_result"
    }
   ],
   "source": [
    "frase=\"w3n4s n0ch3s t3nga ust3d d1st1ngu1d0 y h0n0r4bl3 s3ñ0r\"\n",
    "lista_numeros_texto(frase)"
   ]
  },
  {
   "cell_type": "code",
   "execution_count": 125,
   "metadata": {},
   "outputs": [
    {
     "name": "stdout",
     "output_type": "stream",
     "text": [
      "¡Superaste la prueba 1!\n",
      "¡Superaste la prueba 2!\n",
      "¡Superaste la prueba 3!\n"
     ]
    }
   ],
   "source": [
    "# Prueba 1\n",
    "test.test_excercise_seven(lista_numeros_texto('a7b9j36sh49dk40vl37ch68dj59sk'), ['7', '9', '3', '6', '4', '9', '4', '0', '3', '7', '6', '8', '5', '9'] , 1)\n",
    "\n",
    "# Prueba 2\n",
    "test.test_excercise_seven(lista_numeros_texto('g38f7s93js8fj5jf8sj39sj39sj3'), ['3', '8', '7', '9', '3', '8', '5', '8', '3', '9', '3', '9', '3'], 2)\n",
    "\n",
    "# Prueba 3\n",
    "test.test_excercise_seven(lista_numeros_texto('d7fhfs9k2k7sh48fj20fj29djs'), ['7', '9', '2', '7', '4', '8', '2', '0', '2', '9'], 3)"
   ]
  },
  {
   "cell_type": "markdown",
   "metadata": {},
   "source": [
    "## Ejercicio 8:\n",
    "\n",
    "Instrucciones:\n",
    "\n",
    "Programa que devuelve la cantidad de numeros que tiene una lista, sin sus duplicados.\n",
    "\n",
    "Ejemplo1 :\n",
    "| Input | Output |\n",
    "| - | - |\n",
    "| [2,3,2] | 2 | \n",
    "| [2,4,3,5] | 4 |\n",
    "| [2,5,7,5,8,7] | 3 |\n",
    "| [1,2,3,4,3,4,5,6,7] | 7 |\n",
    "\n",
    "\n"
   ]
  },
  {
   "cell_type": "code",
   "execution_count": 135,
   "metadata": {},
   "outputs": [],
   "source": [
    "def cantidad_numeros_1_vez(lista_numeros):\n",
    "    numeros=set(lista_numeros)\n",
    "    return len(numeros)"
   ]
  },
  {
   "cell_type": "code",
   "execution_count": 137,
   "metadata": {},
   "outputs": [
    {
     "data": {
      "text/plain": [
       "9"
      ]
     },
     "execution_count": 137,
     "metadata": {},
     "output_type": "execute_result"
    }
   ],
   "source": [
    "numeros=[1,2,3,46,5,5,87,4,2,54,1,25,2,3]\n",
    "cantidad_numeros_1_vez(numeros)"
   ]
  },
  {
   "cell_type": "code",
   "execution_count": 138,
   "metadata": {},
   "outputs": [
    {
     "name": "stdout",
     "output_type": "stream",
     "text": [
      "¡Superaste la prueba 1!\n",
      "¡Superaste la prueba 2!\n",
      "¡Superaste la prueba 3!\n"
     ]
    }
   ],
   "source": [
    "# Prueba 1\n",
    "test.test_excercise_eight(cantidad_numeros_1_vez([12,45,23,78,34,12,56,89,34,56,23]), 7,  1)\n",
    "\n",
    "# Prueba 2\n",
    "test.test_excercise_eight(cantidad_numeros_1_vez([2,15,27,14,16,12,14,15,17,23,12,5,16]), 9, 2)\n",
    "\n",
    "# Prueba 3\n",
    "test.test_excercise_eight(cantidad_numeros_1_vez([2,5,7,2,7]), 3, 3)"
   ]
  },
  {
   "cell_type": "markdown",
   "metadata": {},
   "source": [
    "## Ejercicio 9:\n",
    "\n",
    "Instrucciones:\n",
    "\n",
    "Programa que devuelve la suma de los numeros positivos que se encuentra en una lista\n",
    "\n",
    "Ejemplo :\n",
    "\n",
    "[ 5, -4 , 9, 5, -3] | => 5 + 9 + 5 =  19\n",
    "\n",
    "El programa devolveria solo el 19\n",
    "\n",
    "\n",
    "Ejemplos:\n",
    "| Entrada | Salida |\n",
    "| - | - |\n",
    "| [4 , -3, -1 , 5] | 9 |\n",
    "| [-3, 5, -5 , 8, 2] | 15 |"
   ]
  },
  {
   "cell_type": "code",
   "execution_count": 141,
   "metadata": {},
   "outputs": [],
   "source": [
    "def suma_numeros_positivos(lista_numeros):\n",
    "    sum=0\n",
    "    for e in lista_numeros:\n",
    "        if e>=0:\n",
    "            sum+=e\n",
    "    return sum"
   ]
  },
  {
   "cell_type": "code",
   "execution_count": 147,
   "metadata": {},
   "outputs": [
    {
     "data": {
      "text/plain": [
       "166"
      ]
     },
     "execution_count": 147,
     "metadata": {},
     "output_type": "execute_result"
    }
   ],
   "source": [
    "numbers=[-31, 50, 25, -66, 22, 69]\n",
    "suma_numeros_positivos(numbers)"
   ]
  },
  {
   "cell_type": "code",
   "execution_count": 143,
   "metadata": {},
   "outputs": [
    {
     "name": "stdout",
     "output_type": "stream",
     "text": [
      "¡Superaste la prueba 1!\n",
      "¡Superaste la prueba 2!\n",
      "¡Superaste la prueba 3!\n"
     ]
    }
   ],
   "source": [
    "# Prueba 1\n",
    "test.test_excercise_nine(suma_numeros_positivos([-3, 5, 2, -6, 2, 9]), 18,  1)\n",
    "\n",
    "# Prueba 2\n",
    "test.test_excercise_nine(suma_numeros_positivos([3, 4, -3, 6, 8, -3]), 21, 2)\n",
    "\n",
    "# Prueba 3\n",
    "test.test_excercise_nine(suma_numeros_positivos([-13, 10, 24, -23, 3]), 37, 3)"
   ]
  },
  {
   "cell_type": "markdown",
   "metadata": {},
   "source": [
    "## Ejercicio 10:\n",
    "\n",
    "Instrucciones:\n",
    "\n",
    "Se tienen 2 lista y se desea obtener los numeros de la lista1 que aparezcan en la lista2.\n",
    "(evitar que salgan repetidos en la Salida)\n",
    "\n",
    "Ejemplos:\n",
    "| lista1 | lista2 | Salida |\n",
    "| - | - | - |\n",
    "| [3, 5, 5, 8 ,13 , 15] | [1, 2, 3, 5, 6, 8, 10] | [ 3, 5, 8 ] |\n",
    "| [12, 24, 36, 48 , 60] | [12, 16, 24 ,32 ,40, 48, 54, 64] | [12, 24, 48] |\n",
    "| [1, 2, 3] | [2, 4, 6] | [2] |\n",
    "\n"
   ]
  },
  {
   "cell_type": "code",
   "execution_count": 155,
   "metadata": {},
   "outputs": [],
   "source": [
    "def numeros_listas(lista1, lista2):\n",
    "    conjunto1= set(lista1)\n",
    "    conjunto2= set(lista2)\n",
    "    salida=conjunto1&conjunto2\n",
    "\n",
    "    return sorted(salida)"
   ]
  },
  {
   "cell_type": "code",
   "execution_count": 156,
   "metadata": {},
   "outputs": [
    {
     "data": {
      "text/plain": [
       "[2, 7]"
      ]
     },
     "execution_count": 156,
     "metadata": {},
     "output_type": "execute_result"
    }
   ],
   "source": [
    "list1=[1,2,6,2,7,3,6,2]\n",
    "list2=[2,5,7]\n",
    "\n",
    "numeros_listas(list1, list2)"
   ]
  },
  {
   "cell_type": "code",
   "execution_count": 157,
   "metadata": {},
   "outputs": [
    {
     "name": "stdout",
     "output_type": "stream",
     "text": [
      "¡Superaste la prueba 1!\n",
      "¡Superaste la prueba 2!\n",
      "¡Superaste la prueba 3!\n"
     ]
    }
   ],
   "source": [
    "# Prueba 1\n",
    "test.test_excercise_ten(numeros_listas([1,2,6,2,7,3,6,2],[2,5,7]), [2, 7],  1)\n",
    "\n",
    "# Prueba 2\n",
    "test.test_excercise_ten(numeros_listas([15,14,2,15,16,14,6,17,15,5,8],[5,7,12,15,18]), [5, 15], 2)\n",
    "\n",
    "# Prueba 3\n",
    "test.test_excercise_ten(numeros_listas([25,70,45,60,25,20,15,75,100,45,75],[30,45,60,85]), [45,60], 3)"
   ]
  },
  {
   "cell_type": "code",
   "execution_count": null,
   "metadata": {},
   "outputs": [],
   "source": []
  }
 ],
 "metadata": {
  "kernelspec": {
   "display_name": "Python 3",
   "language": "python",
   "name": "python3"
  },
  "language_info": {
   "codemirror_mode": {
    "name": "ipython",
    "version": 3
   },
   "file_extension": ".py",
   "mimetype": "text/x-python",
   "name": "python",
   "nbconvert_exporter": "python",
   "pygments_lexer": "ipython3",
   "version": "3.10.2"
  },
  "orig_nbformat": 4,
  "vscode": {
   "interpreter": {
    "hash": "265bbd40db63aa34df1bd83f77ecf498882faae903508c6e893ae6addaebaa43"
   }
  }
 },
 "nbformat": 4,
 "nbformat_minor": 2
}
